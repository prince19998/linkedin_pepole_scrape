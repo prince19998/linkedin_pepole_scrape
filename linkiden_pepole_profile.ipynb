{
 "cells": [
  {
   "cell_type": "code",
   "execution_count": null,
   "id": "2c50b12d-c3d6-407b-86ee-efc2e2971271",
   "metadata": {},
   "outputs": [],
   "source": [
    "import requests\n",
    "from bs4 import BeautifulSoup\n",
    "import pandas as pd\n",
    "from selenium import webdriver\n",
    "from selenium.webdriver.common.by import By\n",
    "import csv\n",
    "import time\n",
    "from selenium.webdriver.chrome.service import Service\n",
    "\n",
    "\n",
    "def get_linkedin_data(first_name, last_name):\n",
    "    url = f\"https://www.linkedin.com/search/results/all/?keywords={first_name}%20{last_name}&origin=GLOBAL_SEARCH_HEADER&sid=(%3AB={first_name}%20{last_name}\"\n",
    "    headers = {\n",
    "        \"User-Agent\": \"Mozilla/5.0 (Windows NT 10.0; Win64; x64) AppleWebKit/537.36 (KHTML, like Gecko) Chrome/91.0.4472.124 Safari/537.36\"\n",
    "    }\n",
    "\n",
    "    s = Service(\"C:/Users/Prince Gupta/Downloads/chromedriver-win64/chromedriver.exe\")\n",
    "    driver = webdriver.Chrome(service=s)\n",
    "\n",
    "    driver.get(\"https://www.linkedin.com/pub/dir/+/+?trk=guest_homepage-basic_guest_nav_menu_people\")\n",
    "    profile_listing = driver.find_elements(By.XPATH, '//*[@id=\"main-content\"]/section[2]/ul/li')\n",
    "\n",
    "\n",
    "    if not profile_listing:  \n",
    "        print(f\"No profiles found for {first_name} {last_name}\")\n",
    "        return []\n",
    "\n",
    "    response = requests.get(url, headers=headers)\n",
    "    soup = BeautifulSoup(response.content, \"html.parser\")\n",
    "\n",
    "    profiles = soup.find_all(\"li\", class_='reusable-search__result-container')\n",
    "\n",
    "    data = []\n",
    "\n",
    "    for profile in profiles[:5]:\n",
    "        name = profile.find(\"span\", class_=\"name actor-name\").get_text().strip()\n",
    "        occupation = profile.find(\"span\", class_=\"subline-level-1\").get_text().strip()\n",
    "        location = profile.find(\"span\", class_=\"subline-level-2\").get_text().strip()\n",
    "        data.append({\"Name\": name, \"Occupation\": occupation, \"Location\": location})\n",
    "\n",
    "    return data\n",
    "\n",
    "\n",
    "def save_to_csv(data, filename):\n",
    "    df = pd.DataFrame(data)\n",
    "    df.to_csv(filename, index=False)\n",
    "    print(f\"Data saved to {filename} successfully.\")\n",
    "\n",
    "\n",
    "if __name__ == \"__main__\":\n",
    "    first_name = input(\"Enter first name: \")\n",
    "    last_name = input(\"Enter last name: \")\n",
    "\n",
    "    linkedin_data = get_linkedin_data(first_name, last_name)\n",
    "    save_to_csv(linkedin_data, \"pepole_detail.csv\")\n"
   ]
  }
 ],
 "metadata": {
  "kernelspec": {
   "display_name": "Python 3 (ipykernel)",
   "language": "python",
   "name": "python3"
  },
  "language_info": {
   "codemirror_mode": {
    "name": "ipython",
    "version": 3
   },
   "file_extension": ".py",
   "mimetype": "text/x-python",
   "name": "python",
   "nbconvert_exporter": "python",
   "pygments_lexer": "ipython3",
   "version": "3.11.7"
  },
  "widgets": {
   "application/vnd.jupyter.widget-state+json": {
    "state": {},
    "version_major": 2,
    "version_minor": 0
   }
  }
 },
 "nbformat": 4,
 "nbformat_minor": 5
}
